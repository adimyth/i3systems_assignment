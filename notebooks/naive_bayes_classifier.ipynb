{
 "cells": [
  {
   "cell_type": "markdown",
   "id": "beautiful-despite",
   "metadata": {},
   "source": [
    "## Choice for Multinomial Naive Bayes\n",
    "Naive Bayes is based on Bayes’ theorem. Naive means that features in the dataset are mutually independent i.e occurrence of one feature does not affect the probability of occurrence of the other feature.\n",
    "\n",
    "* On smaller datasets, outperforms more powerful techniques\n",
    "* Robust\n",
    "* Fast & Accurate\n",
    "* Performs well in text classification problem \n",
    "\n",
    "Multinomial Naïve Bayes considers a feature vector where a given term represents its frequency."
   ]
  },
  {
   "cell_type": "code",
   "execution_count": 1,
   "id": "static-sampling",
   "metadata": {},
   "outputs": [],
   "source": [
    "import numpy as np\n",
    "import pandas as pd\n",
    "\n",
    "import joblib\n",
    "from sklearn.feature_extraction.text import TfidfVectorizer, CountVectorizer\n",
    "from sklearn.metrics import accuracy_score, f1_score, classification_report, matthews_corrcoef\n",
    "from sklearn.model_selection import StratifiedKFold\n",
    "from sklearn.naive_bayes import MultinomialNB"
   ]
  },
  {
   "cell_type": "markdown",
   "id": "strange-screw",
   "metadata": {},
   "source": [
    "**CONSTANTS**"
   ]
  },
  {
   "cell_type": "code",
   "execution_count": 3,
   "id": "shared-virginia",
   "metadata": {},
   "outputs": [],
   "source": [
    "NUM_SPLITS = 5\n",
    "RANDOM_STATE = 42"
   ]
  },
  {
   "cell_type": "markdown",
   "id": "precious-vintage",
   "metadata": {},
   "source": [
    "**LOADING DATA**"
   ]
  },
  {
   "cell_type": "code",
   "execution_count": 4,
   "id": "rising-atlantic",
   "metadata": {},
   "outputs": [],
   "source": [
    "df = pd.read_csv(\"../data/processed/processed_data.csv\")"
   ]
  },
  {
   "cell_type": "markdown",
   "id": "silent-vegetarian",
   "metadata": {},
   "source": [
    "**MAPPING TARGETS**"
   ]
  },
  {
   "cell_type": "code",
   "execution_count": 5,
   "id": "governing-subscription",
   "metadata": {},
   "outputs": [
    {
     "data": {
      "text/plain": [
       " Surgery                          1088\n",
       " Consult - History and Phy.        516\n",
       " Cardiovascular / Pulmonary        371\n",
       " Orthopedic                        355\n",
       " Radiology                         273\n",
       " General Medicine                  259\n",
       " Gastroenterology                  224\n",
       " Neurology                         223\n",
       " SOAP / Chart / Progress Notes     166\n",
       " Urology                           156\n",
       " Obstetrics / Gynecology           155\n",
       " Discharge Summary                 108\n",
       " ENT - Otolaryngology               96\n",
       " Neurosurgery                       94\n",
       " Hematology - Oncology              90\n",
       " Ophthalmology                      83\n",
       " Nephrology                         81\n",
       " Emergency Room Reports             75\n",
       " Pediatrics - Neonatal              70\n",
       " Pain Management                    61\n",
       " Psychiatry / Psychology            53\n",
       " Office Notes                       50\n",
       " Podiatry                           47\n",
       " Dermatology                        29\n",
       " Dentistry                          27\n",
       " Cosmetic / Plastic Surgery         27\n",
       " Letters                            23\n",
       " Physical Medicine - Rehab          21\n",
       " Sleep Medicine                     20\n",
       " Endocrinology                      19\n",
       " Bariatrics                         18\n",
       " IME-QME-Work Comp etc.             16\n",
       " Chiropractic                       14\n",
       " Diets and Nutritions               10\n",
       " Rheumatology                       10\n",
       " Speech - Language                   9\n",
       " Autopsy                             8\n",
       " Lab Medicine - Pathology            8\n",
       " Allergy / Immunology                7\n",
       " Hospice - Palliative Care           6\n",
       "Name: Package, dtype: int64"
      ]
     },
     "execution_count": 5,
     "metadata": {},
     "output_type": "execute_result"
    }
   ],
   "source": [
    "df[\"Package\"].value_counts()"
   ]
  },
  {
   "cell_type": "code",
   "execution_count": 6,
   "id": "amateur-alliance",
   "metadata": {},
   "outputs": [],
   "source": [
    "strings = sorted(df[\"Package\"].unique())\n",
    "labels = list(range(len(strings)))\n",
    "mapping = dict(zip(strings, labels))"
   ]
  },
  {
   "cell_type": "code",
   "execution_count": 7,
   "id": "ordered-strip",
   "metadata": {},
   "outputs": [],
   "source": [
    "df[\"Package\"] = df[\"Package\"].map(mapping)"
   ]
  },
  {
   "cell_type": "markdown",
   "id": "educated-processing",
   "metadata": {},
   "source": [
    "**STRATIFIED K-FOLD**"
   ]
  },
  {
   "cell_type": "code",
   "execution_count": 8,
   "id": "dried-broadway",
   "metadata": {},
   "outputs": [],
   "source": [
    "kfold = StratifiedKFold(n_splits=NUM_SPLITS, shuffle=True, random_state=RANDOM_STATE)"
   ]
  },
  {
   "cell_type": "markdown",
   "id": "postal-uniform",
   "metadata": {},
   "source": [
    "**METRICS**"
   ]
  },
  {
   "cell_type": "code",
   "execution_count": 9,
   "id": "novel-upset",
   "metadata": {},
   "outputs": [],
   "source": [
    "def print_metrics(y_true, y_pred):\n",
    "    print(f\"ACCURACY: {accuracy_score(y_true, y_pred)}\")\n",
    "    print(f\"MCC: {matthews_corrcoef(y_true, y_pred)}\")"
   ]
  },
  {
   "cell_type": "markdown",
   "id": "manual-healing",
   "metadata": {},
   "source": [
    "**TRAINING**"
   ]
  },
  {
   "cell_type": "code",
   "execution_count": 10,
   "id": "greek-taiwan",
   "metadata": {},
   "outputs": [],
   "source": [
    "oof_preds = np.zeros(len(df))"
   ]
  },
  {
   "cell_type": "code",
   "execution_count": 11,
   "id": "tight-glory",
   "metadata": {},
   "outputs": [
    {
     "name": "stdout",
     "output_type": "stream",
     "text": [
      "****************************************\n",
      "*                FOLD 1                *\n",
      "****************************************\n",
      "ACCURACY: 0.3199195171026157\n",
      "MCC: 0.2193310661692734\n",
      "****************************************\n",
      "*                FOLD 2                *\n",
      "****************************************\n",
      "ACCURACY: 0.32225579053373615\n",
      "MCC: 0.22028884595015077\n",
      "****************************************\n",
      "*                FOLD 3                *\n",
      "****************************************\n",
      "ACCURACY: 0.3192346424974824\n",
      "MCC: 0.2171551789249324\n",
      "****************************************\n",
      "*                FOLD 4                *\n",
      "****************************************\n",
      "ACCURACY: 0.32124874118831825\n",
      "MCC: 0.21922927228272304\n",
      "****************************************\n",
      "*                FOLD 5                *\n",
      "****************************************\n",
      "ACCURACY: 0.32225579053373615\n",
      "MCC: 0.22101595709728927\n"
     ]
    }
   ],
   "source": [
    "for fold, (train_index, valid_index) in enumerate(kfold.split(df[\"Medical_Description\"], df[\"Package\"])):\n",
    "    print(\"*\"*40)\n",
    "    print(\"*\"+\" \"*16+f\"FOLD {fold+1}\"+\" \"*16+\"*\")\n",
    "    print(\"*\"*40, end=\"\\n\")    \n",
    "    \n",
    "    X_train = df.iloc[train_index, :].reset_index(drop=True)\n",
    "    X_valid = df.iloc[valid_index, :].reset_index(drop=True)\n",
    "    \n",
    "    y_train = X_train[\"Package\"]\n",
    "    y_valid = X_valid[\"Package\"]\n",
    "    \n",
    "    vec = TfidfVectorizer()\n",
    "    train_term_doc = vec.fit_transform(X_train[\"Medical_Description\"])\n",
    "    valid_term_doc = vec.transform(X_valid[\"Medical_Description\"])\n",
    "    \n",
    "    naive_bayes = MultinomialNB()\n",
    "    naive_bayes.fit(train_term_doc, y_train)\n",
    "    \n",
    "    valid_preds = naive_bayes.predict(valid_term_doc)\n",
    "    print_metrics(y_valid, valid_preds)\n",
    "    \n",
    "    oof_preds[valid_index] = valid_preds\n",
    "    \n",
    "    joblib.dump(vec, f\"../pickles/tfidf_{fold}.joblib\")\n",
    "    joblib.dump(naive_bayes, f\"../models/classifier_{fold}.joblib\")"
   ]
  },
  {
   "cell_type": "code",
   "execution_count": 12,
   "id": "oriental-clarity",
   "metadata": {},
   "outputs": [
    {
     "name": "stdout",
     "output_type": "stream",
     "text": [
      "ACCURACY: 0.32098268223922677\n",
      "MCC: 0.2193265477989161\n"
     ]
    }
   ],
   "source": [
    "print_metrics(df[\"Package\"].tolist(), oof_preds)"
   ]
  },
  {
   "cell_type": "code",
   "execution_count": null,
   "id": "palestinian-tours",
   "metadata": {},
   "outputs": [],
   "source": []
  }
 ],
 "metadata": {
  "kernelspec": {
   "display_name": "Python 3",
   "language": "python",
   "name": "python3"
  },
  "language_info": {
   "codemirror_mode": {
    "name": "ipython",
    "version": 3
   },
   "file_extension": ".py",
   "mimetype": "text/x-python",
   "name": "python",
   "nbconvert_exporter": "python",
   "pygments_lexer": "ipython3",
   "version": "3.8.0"
  }
 },
 "nbformat": 4,
 "nbformat_minor": 5
}
