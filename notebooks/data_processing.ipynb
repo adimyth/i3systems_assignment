{
 "cells": [
  {
   "cell_type": "code",
   "execution_count": 4,
   "id": "threatened-heading",
   "metadata": {},
   "outputs": [],
   "source": [
    "import re\n",
    "import string\n",
    "\n",
    "import numpy as np\n",
    "import pandas as pd\n",
    "import nltk\n",
    "from nltk.corpus import stopwords\n",
    "import spacy"
   ]
  },
  {
   "cell_type": "code",
   "execution_count": 5,
   "id": "hispanic-pierre",
   "metadata": {},
   "outputs": [
    {
     "name": "stderr",
     "output_type": "stream",
     "text": [
      "[nltk_data] Downloading package stopwords to\n",
      "[nltk_data]     /Users/adimyth/nltk_data...\n",
      "[nltk_data]   Package stopwords is already up-to-date!\n"
     ]
    },
    {
     "data": {
      "text/plain": [
       "True"
      ]
     },
     "execution_count": 5,
     "metadata": {},
     "output_type": "execute_result"
    }
   ],
   "source": [
    "nltk.download(\"stopwords\")"
   ]
  },
  {
   "cell_type": "code",
   "execution_count": null,
   "id": "false-tourism",
   "metadata": {},
   "outputs": [],
   "source": []
  },
  {
   "cell_type": "markdown",
   "id": "owned-calendar",
   "metadata": {},
   "source": [
    "**Loading Data**"
   ]
  },
  {
   "cell_type": "code",
   "execution_count": 6,
   "id": "democratic-pickup",
   "metadata": {},
   "outputs": [],
   "source": [
    "df = pd.read_csv(\"../data/raw/Case_Study_Data.csv\")"
   ]
  },
  {
   "cell_type": "code",
   "execution_count": 7,
   "id": "spoken-motorcycle",
   "metadata": {},
   "outputs": [
    {
     "data": {
      "text/plain": [
       "(4999, 3)"
      ]
     },
     "execution_count": 7,
     "metadata": {},
     "output_type": "execute_result"
    }
   ],
   "source": [
    "df.shape"
   ]
  },
  {
   "cell_type": "markdown",
   "id": "perceived-narrative",
   "metadata": {},
   "source": [
    "**Drop NAN rows**"
   ]
  },
  {
   "cell_type": "code",
   "execution_count": 8,
   "id": "spoken-evans",
   "metadata": {},
   "outputs": [],
   "source": [
    "df = df.loc[df[\"Medical_Description\"].notna()]"
   ]
  },
  {
   "cell_type": "markdown",
   "id": "accepting-match",
   "metadata": {},
   "source": [
    "**Lower Casing**"
   ]
  },
  {
   "cell_type": "code",
   "execution_count": 9,
   "id": "private-earthquake",
   "metadata": {},
   "outputs": [],
   "source": [
    "df[\"Medical_Description\"] = df[\"Medical_Description\"].str.lower()"
   ]
  },
  {
   "cell_type": "code",
   "execution_count": 10,
   "id": "appointed-injury",
   "metadata": {},
   "outputs": [],
   "source": [
    "df[\"Sample\"] = df[\"Sample\"].str.lower()"
   ]
  },
  {
   "cell_type": "code",
   "execution_count": 11,
   "id": "running-rainbow",
   "metadata": {},
   "outputs": [
    {
     "data": {
      "text/html": [
       "<div>\n",
       "<style scoped>\n",
       "    .dataframe tbody tr th:only-of-type {\n",
       "        vertical-align: middle;\n",
       "    }\n",
       "\n",
       "    .dataframe tbody tr th {\n",
       "        vertical-align: top;\n",
       "    }\n",
       "\n",
       "    .dataframe thead th {\n",
       "        text-align: right;\n",
       "    }\n",
       "</style>\n",
       "<table border=\"1\" class=\"dataframe\">\n",
       "  <thead>\n",
       "    <tr style=\"text-align: right;\">\n",
       "      <th></th>\n",
       "      <th>Package</th>\n",
       "      <th>Sample</th>\n",
       "      <th>Medical_Description</th>\n",
       "    </tr>\n",
       "  </thead>\n",
       "  <tbody>\n",
       "    <tr>\n",
       "      <th>2157</th>\n",
       "      <td>Orthopedic</td>\n",
       "      <td>mcbride bunionectomy &amp; wedge osteotomy</td>\n",
       "      <td>preoperative diagnosis:,  right hallux abducto...</td>\n",
       "    </tr>\n",
       "    <tr>\n",
       "      <th>274</th>\n",
       "      <td>Surgery</td>\n",
       "      <td>thyroidectomy - 1</td>\n",
       "      <td>preoperative diagnosis: , thyroid goiter.,post...</td>\n",
       "    </tr>\n",
       "    <tr>\n",
       "      <th>1783</th>\n",
       "      <td>Psychiatry / Psychology</td>\n",
       "      <td>psych consult - pain meds</td>\n",
       "      <td>reason for consultation: , management of pain ...</td>\n",
       "    </tr>\n",
       "    <tr>\n",
       "      <th>450</th>\n",
       "      <td>Surgery</td>\n",
       "      <td>phacoemulsification &amp; lens implantation</td>\n",
       "      <td>preoperative diagnosis:,  cataract, nuclear sc...</td>\n",
       "    </tr>\n",
       "    <tr>\n",
       "      <th>41</th>\n",
       "      <td>Urology</td>\n",
       "      <td>spermatocelectomy, epididymectomy, &amp; vasectomy</td>\n",
       "      <td>preoperative diagnoses:,1.  left spermatocele....</td>\n",
       "    </tr>\n",
       "  </tbody>\n",
       "</table>\n",
       "</div>"
      ],
      "text/plain": [
       "                       Package  \\\n",
       "2157                Orthopedic   \n",
       "274                    Surgery   \n",
       "1783   Psychiatry / Psychology   \n",
       "450                    Surgery   \n",
       "41                     Urology   \n",
       "\n",
       "                                                Sample  \\\n",
       "2157           mcbride bunionectomy & wedge osteotomy    \n",
       "274                                 thyroidectomy - 1    \n",
       "1783                        psych consult - pain meds    \n",
       "450           phacoemulsification & lens implantation    \n",
       "41     spermatocelectomy, epididymectomy, & vasectomy    \n",
       "\n",
       "                                    Medical_Description  \n",
       "2157  preoperative diagnosis:,  right hallux abducto...  \n",
       "274   preoperative diagnosis: , thyroid goiter.,post...  \n",
       "1783  reason for consultation: , management of pain ...  \n",
       "450   preoperative diagnosis:,  cataract, nuclear sc...  \n",
       "41    preoperative diagnoses:,1.  left spermatocele....  "
      ]
     },
     "execution_count": 11,
     "metadata": {},
     "output_type": "execute_result"
    }
   ],
   "source": [
    "df.sample(n=5)"
   ]
  },
  {
   "cell_type": "markdown",
   "id": "legislative-graphic",
   "metadata": {},
   "source": [
    "**Remove Punctuations**"
   ]
  },
  {
   "cell_type": "code",
   "execution_count": 12,
   "id": "french-internet",
   "metadata": {},
   "outputs": [
    {
     "data": {
      "text/plain": [
       "'!\"#$%&\\'()*+,-./:;<=>?@[\\\\]^_`{|}~'"
      ]
     },
     "execution_count": 12,
     "metadata": {},
     "output_type": "execute_result"
    }
   ],
   "source": [
    "string.punctuation"
   ]
  },
  {
   "cell_type": "code",
   "execution_count": 13,
   "id": "expired-grant",
   "metadata": {},
   "outputs": [],
   "source": [
    "def remove_punctuation(text):\n",
    "    return text.translate(str.maketrans('', '', string.punctuation))"
   ]
  },
  {
   "cell_type": "code",
   "execution_count": 14,
   "id": "distant-forth",
   "metadata": {},
   "outputs": [],
   "source": [
    "df[\"Medical_Description\"] = df[\"Medical_Description\"].apply(lambda text: remove_punctuation(text))\n",
    "df[\"Sample\"] = df[\"Sample\"].apply(lambda text: remove_punctuation(text))"
   ]
  },
  {
   "cell_type": "code",
   "execution_count": 15,
   "id": "supposed-intake",
   "metadata": {},
   "outputs": [
    {
     "data": {
      "text/html": [
       "<div>\n",
       "<style scoped>\n",
       "    .dataframe tbody tr th:only-of-type {\n",
       "        vertical-align: middle;\n",
       "    }\n",
       "\n",
       "    .dataframe tbody tr th {\n",
       "        vertical-align: top;\n",
       "    }\n",
       "\n",
       "    .dataframe thead th {\n",
       "        text-align: right;\n",
       "    }\n",
       "</style>\n",
       "<table border=\"1\" class=\"dataframe\">\n",
       "  <thead>\n",
       "    <tr style=\"text-align: right;\">\n",
       "      <th></th>\n",
       "      <th>Package</th>\n",
       "      <th>Sample</th>\n",
       "      <th>Medical_Description</th>\n",
       "    </tr>\n",
       "  </thead>\n",
       "  <tbody>\n",
       "    <tr>\n",
       "      <th>1978</th>\n",
       "      <td>Pain Management</td>\n",
       "      <td>lumbar epidural steroid injection  1</td>\n",
       "      <td>operation  lumbar epidural steroid injection i...</td>\n",
       "    </tr>\n",
       "    <tr>\n",
       "      <th>2738</th>\n",
       "      <td>Neurosurgery</td>\n",
       "      <td>anterior cervical discectomy  fusion  2</td>\n",
       "      <td>preoperative diagnosis  herniated nucleus pulp...</td>\n",
       "    </tr>\n",
       "    <tr>\n",
       "      <th>1089</th>\n",
       "      <td>Surgery</td>\n",
       "      <td>cardioversion  direct current</td>\n",
       "      <td>procedure  direct current cardioversionreason ...</td>\n",
       "    </tr>\n",
       "    <tr>\n",
       "      <th>4617</th>\n",
       "      <td>Cardiovascular / Pulmonary</td>\n",
       "      <td>transthoracic echocardiography</td>\n",
       "      <td>reason for exam  coronary artery bypass surger...</td>\n",
       "    </tr>\n",
       "    <tr>\n",
       "      <th>784</th>\n",
       "      <td>Surgery</td>\n",
       "      <td>flexor carpi radialis  palmaris longus repair</td>\n",
       "      <td>preoperative diagnosis  right wrist laceration...</td>\n",
       "    </tr>\n",
       "  </tbody>\n",
       "</table>\n",
       "</div>"
      ],
      "text/plain": [
       "                          Package  \\\n",
       "1978              Pain Management   \n",
       "2738                 Neurosurgery   \n",
       "1089                      Surgery   \n",
       "4617   Cardiovascular / Pulmonary   \n",
       "784                       Surgery   \n",
       "\n",
       "                                               Sample  \\\n",
       "1978            lumbar epidural steroid injection  1    \n",
       "2738         anterior cervical discectomy  fusion  2    \n",
       "1089                   cardioversion  direct current    \n",
       "4617                  transthoracic echocardiography    \n",
       "784    flexor carpi radialis  palmaris longus repair    \n",
       "\n",
       "                                    Medical_Description  \n",
       "1978  operation  lumbar epidural steroid injection i...  \n",
       "2738  preoperative diagnosis  herniated nucleus pulp...  \n",
       "1089  procedure  direct current cardioversionreason ...  \n",
       "4617  reason for exam  coronary artery bypass surger...  \n",
       "784   preoperative diagnosis  right wrist laceration...  "
      ]
     },
     "execution_count": 15,
     "metadata": {},
     "output_type": "execute_result"
    }
   ],
   "source": [
    "df.sample(n=5)"
   ]
  },
  {
   "cell_type": "markdown",
   "id": "editorial-ozone",
   "metadata": {},
   "source": [
    "**Remove Stopwords**"
   ]
  },
  {
   "cell_type": "code",
   "execution_count": 16,
   "id": "dependent-apartment",
   "metadata": {},
   "outputs": [],
   "source": [
    "# https://cs.stanford.edu/people/sonal/gupta14jamia_supl.pdf\n",
    "medical_stopwords_list1 = [\"disease\", \"diseases\", \"disorder\", \"symptom\", \"symptoms\", \"drug\", \"drugs\", \"problems\", \"problem\",\n",
    "                           \"prob\", \"probs\", \"med\", \"meds\", \"pill\", \"pills\", \"medicine\", \"medicines\", \"medication\", \"medications\", \n",
    "                           \"treatment\", \"treatments\", \"caps\", \"capsules\", \"capsule\", \"tablet\", \"tablets\", \"tabs\", \"doctor\", \n",
    "                           \"dr\", \"dr.\", \"doc\", \"physician\", \"physicians\", \"test\", \"tests\", \"testing\", \"specialist\", \n",
    "                           \"specialists\", \"side-effect\", \"side-effects\", \"pharmaceutical\", \"pharmaceuticals\", \"pharma\", \n",
    "                           \"diagnosis\", \"diagnose\", \"diagnosed\", \"exam\", \"challenge\", \"device\", \"condition\", \"conditions\", \n",
    "                           \"suffer\", \"suffering\", \"suffered\", \"feel\", \"feeling\", \"prescription\", \"prescribe\",\n",
    "                           \"prescribed\", \"over-the-counter\", \"otc\", \"contain\", \"contains\"]\n"
   ]
  },
  {
   "cell_type": "code",
   "execution_count": 17,
   "id": "lasting-encoding",
   "metadata": {},
   "outputs": [],
   "source": [
    "medical_stopwords_list2 = pd.read_csv(\"https://raw.githubusercontent.com/kavgan/clinical-concepts/master/clinical-stopwords.txt\")[\"#regular stop words with clinical\"].tolist()"
   ]
  },
  {
   "cell_type": "code",
   "execution_count": 18,
   "id": "institutional-plant",
   "metadata": {},
   "outputs": [],
   "source": [
    "medical_stopwords = medical_stopwords_list1+medical_stopwords_list2"
   ]
  },
  {
   "cell_type": "code",
   "execution_count": 19,
   "id": "fresh-qatar",
   "metadata": {},
   "outputs": [],
   "source": [
    "english_stopwords = \", \".join(stopwords.words('english'))"
   ]
  },
  {
   "cell_type": "code",
   "execution_count": 20,
   "id": "substantial-possibility",
   "metadata": {},
   "outputs": [],
   "source": [
    "english_stopwords = english_stopwords.split(\",\")"
   ]
  },
  {
   "cell_type": "code",
   "execution_count": 21,
   "id": "responsible-lover",
   "metadata": {},
   "outputs": [],
   "source": [
    "total_stopwords = medical_stopwords+english_stopwords"
   ]
  },
  {
   "cell_type": "code",
   "execution_count": 22,
   "id": "stunning-hollow",
   "metadata": {},
   "outputs": [
    {
     "data": {
      "text/plain": [
       "(1053, 874, 179)"
      ]
     },
     "execution_count": 22,
     "metadata": {},
     "output_type": "execute_result"
    }
   ],
   "source": [
    "len(total_stopwords), len(medical_stopwords), len(english_stopwords)"
   ]
  },
  {
   "cell_type": "code",
   "execution_count": 23,
   "id": "designing-pillow",
   "metadata": {},
   "outputs": [],
   "source": [
    "def remove_stopwords(text):\n",
    "    return \" \".join([word for word in str(text).split() if word not in total_stopwords])"
   ]
  },
  {
   "cell_type": "code",
   "execution_count": 24,
   "id": "cutting-niagara",
   "metadata": {},
   "outputs": [],
   "source": [
    "df[\"Medical_Description\"] = df[\"Medical_Description\"].apply(lambda text: remove_stopwords(text))\n",
    "df[\"Sample\"] = df[\"Sample\"].apply(lambda text: remove_stopwords(text))"
   ]
  },
  {
   "cell_type": "code",
   "execution_count": 25,
   "id": "mighty-samba",
   "metadata": {},
   "outputs": [
    {
     "data": {
      "text/html": [
       "<div>\n",
       "<style scoped>\n",
       "    .dataframe tbody tr th:only-of-type {\n",
       "        vertical-align: middle;\n",
       "    }\n",
       "\n",
       "    .dataframe tbody tr th {\n",
       "        vertical-align: top;\n",
       "    }\n",
       "\n",
       "    .dataframe thead th {\n",
       "        text-align: right;\n",
       "    }\n",
       "</style>\n",
       "<table border=\"1\" class=\"dataframe\">\n",
       "  <thead>\n",
       "    <tr style=\"text-align: right;\">\n",
       "      <th></th>\n",
       "      <th>Package</th>\n",
       "      <th>Sample</th>\n",
       "      <th>Medical_Description</th>\n",
       "    </tr>\n",
       "  </thead>\n",
       "  <tbody>\n",
       "    <tr>\n",
       "      <th>0</th>\n",
       "      <td>Allergy / Immunology</td>\n",
       "      <td>allergic rhinitis</td>\n",
       "      <td>subjective 23yearold white female presents com...</td>\n",
       "    </tr>\n",
       "    <tr>\n",
       "      <th>1</th>\n",
       "      <td>Bariatrics</td>\n",
       "      <td>laparoscopic gastric bypass consult 2</td>\n",
       "      <td>past history difficulty climbing stairs diffic...</td>\n",
       "    </tr>\n",
       "    <tr>\n",
       "      <th>2</th>\n",
       "      <td>Bariatrics</td>\n",
       "      <td>laparoscopic gastric bypass consult 1</td>\n",
       "      <td>history present illness seen abc today pleasan...</td>\n",
       "    </tr>\n",
       "    <tr>\n",
       "      <th>3</th>\n",
       "      <td>Cardiovascular / Pulmonary</td>\n",
       "      <td>2d echocardiogram 1</td>\n",
       "      <td>2d mmode 1 left atrial enlargement left atrial...</td>\n",
       "    </tr>\n",
       "    <tr>\n",
       "      <th>4</th>\n",
       "      <td>Cardiovascular / Pulmonary</td>\n",
       "      <td>2d echocardiogram 2</td>\n",
       "      <td>1 left ventricular cavity size wall thickness ...</td>\n",
       "    </tr>\n",
       "  </tbody>\n",
       "</table>\n",
       "</div>"
      ],
      "text/plain": [
       "                       Package                                 Sample  \\\n",
       "0         Allergy / Immunology                      allergic rhinitis   \n",
       "1                   Bariatrics  laparoscopic gastric bypass consult 2   \n",
       "2                   Bariatrics  laparoscopic gastric bypass consult 1   \n",
       "3   Cardiovascular / Pulmonary                    2d echocardiogram 1   \n",
       "4   Cardiovascular / Pulmonary                    2d echocardiogram 2   \n",
       "\n",
       "                                 Medical_Description  \n",
       "0  subjective 23yearold white female presents com...  \n",
       "1  past history difficulty climbing stairs diffic...  \n",
       "2  history present illness seen abc today pleasan...  \n",
       "3  2d mmode 1 left atrial enlargement left atrial...  \n",
       "4  1 left ventricular cavity size wall thickness ...  "
      ]
     },
     "execution_count": 25,
     "metadata": {},
     "output_type": "execute_result"
    }
   ],
   "source": [
    "df.head()"
   ]
  },
  {
   "cell_type": "markdown",
   "id": "alive-cookbook",
   "metadata": {},
   "source": [
    "**Add Length**"
   ]
  },
  {
   "cell_type": "code",
   "execution_count": 26,
   "id": "reported-inside",
   "metadata": {},
   "outputs": [],
   "source": [
    "df[\"DescriptionLength\"] = df[\"Medical_Description\"].str.len()"
   ]
  },
  {
   "cell_type": "markdown",
   "id": "attached-occupation",
   "metadata": {},
   "source": [
    "**Save Processed Data**"
   ]
  },
  {
   "cell_type": "code",
   "execution_count": 27,
   "id": "qualified-veteran",
   "metadata": {},
   "outputs": [],
   "source": [
    "df.to_csv(\"../data/processed/processed_data.csv\", index=False)"
   ]
  },
  {
   "cell_type": "code",
   "execution_count": null,
   "id": "obvious-cream",
   "metadata": {},
   "outputs": [],
   "source": []
  }
 ],
 "metadata": {
  "kernelspec": {
   "display_name": "Python 3",
   "language": "python",
   "name": "python3"
  },
  "language_info": {
   "codemirror_mode": {
    "name": "ipython",
    "version": 3
   },
   "file_extension": ".py",
   "mimetype": "text/x-python",
   "name": "python",
   "nbconvert_exporter": "python",
   "pygments_lexer": "ipython3",
   "version": "3.8.0"
  }
 },
 "nbformat": 4,
 "nbformat_minor": 5
}
